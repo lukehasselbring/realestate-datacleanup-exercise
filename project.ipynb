{
 "cells": [
  {
   "attachments": {},
   "cell_type": "markdown",
   "id": "innocent-university",
   "metadata": {},
   "source": [
    "# Real Estate Clean up\n",
    "\n",
    "This is a real dataset and it was downloaded using web scraping techniques. The data contains registers from fotocasa which is one of the most popular websites of real estate in Spain. Please, do not do this (web scraping) unless it is for academic purposes.\n",
    "\n",
    "The dataset was downloaded a few years ago by Henry Navarro and In no case were economic returns obtained from it.\n",
    "\n",
    "It contains thousands of data from real houses published on the web www.fotocasa.com. Your goal is to extract as much information as possible with the knowledge you have so far about data science, for example what is the most expensive house in the entire dataset?\n",
    "\n",
    "Let's start with precisely that question... Good luck!"
   ]
  },
  {
   "attachments": {},
   "cell_type": "markdown",
   "id": "multiple-glass",
   "metadata": {},
   "source": [
    "#### Exercise 00. Read the dataset assets/real_estate.csv and try to visualize the table (★☆☆)"
   ]
  },
  {
   "cell_type": "code",
   "execution_count": 1,
   "id": "frank-heath",
   "metadata": {},
   "outputs": [
    {
     "data": {
      "text/html": [
       "<div>\n",
       "<style scoped>\n",
       "    .dataframe tbody tr th:only-of-type {\n",
       "        vertical-align: middle;\n",
       "    }\n",
       "\n",
       "    .dataframe tbody tr th {\n",
       "        vertical-align: top;\n",
       "    }\n",
       "\n",
       "    .dataframe thead th {\n",
       "        text-align: right;\n",
       "    }\n",
       "</style>\n",
       "<table border=\"1\" class=\"dataframe\">\n",
       "  <thead>\n",
       "    <tr style=\"text-align: right;\">\n",
       "      <th></th>\n",
       "      <th>Unnamed: 0</th>\n",
       "      <th>id_realEstates</th>\n",
       "      <th>isNew</th>\n",
       "      <th>realEstate_name</th>\n",
       "      <th>phone_realEstate</th>\n",
       "      <th>url_inmueble</th>\n",
       "      <th>rooms</th>\n",
       "      <th>bathrooms</th>\n",
       "      <th>surface</th>\n",
       "      <th>price</th>\n",
       "      <th>...</th>\n",
       "      <th>level4Id</th>\n",
       "      <th>level5Id</th>\n",
       "      <th>level6Id</th>\n",
       "      <th>level7Id</th>\n",
       "      <th>level8Id</th>\n",
       "      <th>accuracy</th>\n",
       "      <th>latitude</th>\n",
       "      <th>longitude</th>\n",
       "      <th>zipCode</th>\n",
       "      <th>customZone</th>\n",
       "    </tr>\n",
       "  </thead>\n",
       "  <tbody>\n",
       "    <tr>\n",
       "      <th>0</th>\n",
       "      <td>1</td>\n",
       "      <td>153771986</td>\n",
       "      <td>False</td>\n",
       "      <td>ferrari 57 inmobiliaria</td>\n",
       "      <td>912177526.0</td>\n",
       "      <td>https://www.fotocasa.es/es/comprar/vivienda/ma...</td>\n",
       "      <td>3.0</td>\n",
       "      <td>2.0</td>\n",
       "      <td>103.0</td>\n",
       "      <td>195000</td>\n",
       "      <td>...</td>\n",
       "      <td>0</td>\n",
       "      <td>0</td>\n",
       "      <td>0</td>\n",
       "      <td>0</td>\n",
       "      <td>0</td>\n",
       "      <td>0</td>\n",
       "      <td>40,2948276786438</td>\n",
       "      <td>-3,44402412135624</td>\n",
       "      <td>NaN</td>\n",
       "      <td>NaN</td>\n",
       "    </tr>\n",
       "    <tr>\n",
       "      <th>1</th>\n",
       "      <td>2</td>\n",
       "      <td>153867863</td>\n",
       "      <td>False</td>\n",
       "      <td>tecnocasa fuenlabrada ferrocarril</td>\n",
       "      <td>916358736.0</td>\n",
       "      <td>https://www.fotocasa.es/es/comprar/vivienda/ma...</td>\n",
       "      <td>3.0</td>\n",
       "      <td>1.0</td>\n",
       "      <td>NaN</td>\n",
       "      <td>89000</td>\n",
       "      <td>...</td>\n",
       "      <td>0</td>\n",
       "      <td>0</td>\n",
       "      <td>0</td>\n",
       "      <td>0</td>\n",
       "      <td>0</td>\n",
       "      <td>1</td>\n",
       "      <td>40,28674</td>\n",
       "      <td>-3,79351</td>\n",
       "      <td>NaN</td>\n",
       "      <td>NaN</td>\n",
       "    </tr>\n",
       "    <tr>\n",
       "      <th>2</th>\n",
       "      <td>3</td>\n",
       "      <td>153430440</td>\n",
       "      <td>False</td>\n",
       "      <td>look find boadilla</td>\n",
       "      <td>916350408.0</td>\n",
       "      <td>https://www.fotocasa.es/es/comprar/vivienda/ma...</td>\n",
       "      <td>2.0</td>\n",
       "      <td>2.0</td>\n",
       "      <td>99.0</td>\n",
       "      <td>390000</td>\n",
       "      <td>...</td>\n",
       "      <td>0</td>\n",
       "      <td>0</td>\n",
       "      <td>0</td>\n",
       "      <td>0</td>\n",
       "      <td>0</td>\n",
       "      <td>0</td>\n",
       "      <td>40,4115646786438</td>\n",
       "      <td>-3,90662252135624</td>\n",
       "      <td>NaN</td>\n",
       "      <td>NaN</td>\n",
       "    </tr>\n",
       "    <tr>\n",
       "      <th>3</th>\n",
       "      <td>4</td>\n",
       "      <td>152776331</td>\n",
       "      <td>False</td>\n",
       "      <td>tecnocasa fuenlabrada ferrocarril</td>\n",
       "      <td>916358736.0</td>\n",
       "      <td>https://www.fotocasa.es/es/comprar/vivienda/ma...</td>\n",
       "      <td>3.0</td>\n",
       "      <td>1.0</td>\n",
       "      <td>86.0</td>\n",
       "      <td>89000</td>\n",
       "      <td>...</td>\n",
       "      <td>0</td>\n",
       "      <td>0</td>\n",
       "      <td>0</td>\n",
       "      <td>0</td>\n",
       "      <td>0</td>\n",
       "      <td>0</td>\n",
       "      <td>40,2853785786438</td>\n",
       "      <td>-3,79508142135624</td>\n",
       "      <td>NaN</td>\n",
       "      <td>NaN</td>\n",
       "    </tr>\n",
       "    <tr>\n",
       "      <th>4</th>\n",
       "      <td>5</td>\n",
       "      <td>153180188</td>\n",
       "      <td>False</td>\n",
       "      <td>ferrari 57 inmobiliaria</td>\n",
       "      <td>912177526.0</td>\n",
       "      <td>https://www.fotocasa.es/es/comprar/vivienda/ma...</td>\n",
       "      <td>2.0</td>\n",
       "      <td>2.0</td>\n",
       "      <td>106.0</td>\n",
       "      <td>172000</td>\n",
       "      <td>...</td>\n",
       "      <td>0</td>\n",
       "      <td>0</td>\n",
       "      <td>0</td>\n",
       "      <td>0</td>\n",
       "      <td>0</td>\n",
       "      <td>0</td>\n",
       "      <td>40,2998774864376</td>\n",
       "      <td>-3,45226301356237</td>\n",
       "      <td>NaN</td>\n",
       "      <td>NaN</td>\n",
       "    </tr>\n",
       "    <tr>\n",
       "      <th>...</th>\n",
       "      <td>...</td>\n",
       "      <td>...</td>\n",
       "      <td>...</td>\n",
       "      <td>...</td>\n",
       "      <td>...</td>\n",
       "      <td>...</td>\n",
       "      <td>...</td>\n",
       "      <td>...</td>\n",
       "      <td>...</td>\n",
       "      <td>...</td>\n",
       "      <td>...</td>\n",
       "      <td>...</td>\n",
       "      <td>...</td>\n",
       "      <td>...</td>\n",
       "      <td>...</td>\n",
       "      <td>...</td>\n",
       "      <td>...</td>\n",
       "      <td>...</td>\n",
       "      <td>...</td>\n",
       "      <td>...</td>\n",
       "      <td>...</td>\n",
       "    </tr>\n",
       "    <tr>\n",
       "      <th>15330</th>\n",
       "      <td>15331</td>\n",
       "      <td>153901377</td>\n",
       "      <td>False</td>\n",
       "      <td>infocasa consulting</td>\n",
       "      <td>911360461.0</td>\n",
       "      <td>https://www.fotocasa.es/es/comprar/vivienda/ma...</td>\n",
       "      <td>2.0</td>\n",
       "      <td>1.0</td>\n",
       "      <td>96.0</td>\n",
       "      <td>259470</td>\n",
       "      <td>...</td>\n",
       "      <td>0</td>\n",
       "      <td>0</td>\n",
       "      <td>0</td>\n",
       "      <td>0</td>\n",
       "      <td>0</td>\n",
       "      <td>0</td>\n",
       "      <td>40,45416</td>\n",
       "      <td>-3,70286</td>\n",
       "      <td>NaN</td>\n",
       "      <td>NaN</td>\n",
       "    </tr>\n",
       "    <tr>\n",
       "      <th>15331</th>\n",
       "      <td>15332</td>\n",
       "      <td>150394373</td>\n",
       "      <td>False</td>\n",
       "      <td>inmobiliaria pulpon</td>\n",
       "      <td>912788039.0</td>\n",
       "      <td>https://www.fotocasa.es/es/comprar/vivienda/ma...</td>\n",
       "      <td>3.0</td>\n",
       "      <td>1.0</td>\n",
       "      <td>150.0</td>\n",
       "      <td>165000</td>\n",
       "      <td>...</td>\n",
       "      <td>0</td>\n",
       "      <td>0</td>\n",
       "      <td>0</td>\n",
       "      <td>0</td>\n",
       "      <td>0</td>\n",
       "      <td>0</td>\n",
       "      <td>40,36652</td>\n",
       "      <td>-3,48951</td>\n",
       "      <td>NaN</td>\n",
       "      <td>NaN</td>\n",
       "    </tr>\n",
       "    <tr>\n",
       "      <th>15332</th>\n",
       "      <td>15333</td>\n",
       "      <td>153901397</td>\n",
       "      <td>False</td>\n",
       "      <td>tecnocasa torrelodones</td>\n",
       "      <td>912780348.0</td>\n",
       "      <td>https://www.fotocasa.es/es/comprar/vivienda/ma...</td>\n",
       "      <td>4.0</td>\n",
       "      <td>2.0</td>\n",
       "      <td>175.0</td>\n",
       "      <td>495000</td>\n",
       "      <td>...</td>\n",
       "      <td>0</td>\n",
       "      <td>0</td>\n",
       "      <td>0</td>\n",
       "      <td>0</td>\n",
       "      <td>0</td>\n",
       "      <td>0</td>\n",
       "      <td>40,57444</td>\n",
       "      <td>-3,92124</td>\n",
       "      <td>NaN</td>\n",
       "      <td>NaN</td>\n",
       "    </tr>\n",
       "    <tr>\n",
       "      <th>15333</th>\n",
       "      <td>15334</td>\n",
       "      <td>152607440</td>\n",
       "      <td>False</td>\n",
       "      <td>inmobiliaria pulpon</td>\n",
       "      <td>912788039.0</td>\n",
       "      <td>https://www.fotocasa.es/es/comprar/vivienda/ma...</td>\n",
       "      <td>3.0</td>\n",
       "      <td>2.0</td>\n",
       "      <td>101.0</td>\n",
       "      <td>195000</td>\n",
       "      <td>...</td>\n",
       "      <td>0</td>\n",
       "      <td>0</td>\n",
       "      <td>0</td>\n",
       "      <td>0</td>\n",
       "      <td>0</td>\n",
       "      <td>0</td>\n",
       "      <td>40,36967</td>\n",
       "      <td>-3,48105</td>\n",
       "      <td>NaN</td>\n",
       "      <td>NaN</td>\n",
       "    </tr>\n",
       "    <tr>\n",
       "      <th>15334</th>\n",
       "      <td>15335</td>\n",
       "      <td>153901356</td>\n",
       "      <td>False</td>\n",
       "      <td>infocasa consulting</td>\n",
       "      <td>911360461.0</td>\n",
       "      <td>https://www.fotocasa.es/es/comprar/vivienda/ma...</td>\n",
       "      <td>3.0</td>\n",
       "      <td>2.0</td>\n",
       "      <td>152.0</td>\n",
       "      <td>765000</td>\n",
       "      <td>...</td>\n",
       "      <td>0</td>\n",
       "      <td>0</td>\n",
       "      <td>0</td>\n",
       "      <td>0</td>\n",
       "      <td>0</td>\n",
       "      <td>0</td>\n",
       "      <td>40,45773</td>\n",
       "      <td>-3,69068</td>\n",
       "      <td>NaN</td>\n",
       "      <td>NaN</td>\n",
       "    </tr>\n",
       "  </tbody>\n",
       "</table>\n",
       "<p>15335 rows × 37 columns</p>\n",
       "</div>"
      ],
      "text/plain": [
       "       Unnamed: 0  id_realEstates  isNew                    realEstate_name  \\\n",
       "0               1       153771986  False            ferrari 57 inmobiliaria   \n",
       "1               2       153867863  False  tecnocasa fuenlabrada ferrocarril   \n",
       "2               3       153430440  False                 look find boadilla   \n",
       "3               4       152776331  False  tecnocasa fuenlabrada ferrocarril   \n",
       "4               5       153180188  False            ferrari 57 inmobiliaria   \n",
       "...           ...             ...    ...                                ...   \n",
       "15330       15331       153901377  False                infocasa consulting   \n",
       "15331       15332       150394373  False                inmobiliaria pulpon   \n",
       "15332       15333       153901397  False             tecnocasa torrelodones   \n",
       "15333       15334       152607440  False                inmobiliaria pulpon   \n",
       "15334       15335       153901356  False                infocasa consulting   \n",
       "\n",
       "       phone_realEstate                                       url_inmueble  \\\n",
       "0           912177526.0  https://www.fotocasa.es/es/comprar/vivienda/ma...   \n",
       "1           916358736.0  https://www.fotocasa.es/es/comprar/vivienda/ma...   \n",
       "2           916350408.0  https://www.fotocasa.es/es/comprar/vivienda/ma...   \n",
       "3           916358736.0  https://www.fotocasa.es/es/comprar/vivienda/ma...   \n",
       "4           912177526.0  https://www.fotocasa.es/es/comprar/vivienda/ma...   \n",
       "...                 ...                                                ...   \n",
       "15330       911360461.0  https://www.fotocasa.es/es/comprar/vivienda/ma...   \n",
       "15331       912788039.0  https://www.fotocasa.es/es/comprar/vivienda/ma...   \n",
       "15332       912780348.0  https://www.fotocasa.es/es/comprar/vivienda/ma...   \n",
       "15333       912788039.0  https://www.fotocasa.es/es/comprar/vivienda/ma...   \n",
       "15334       911360461.0  https://www.fotocasa.es/es/comprar/vivienda/ma...   \n",
       "\n",
       "       rooms  bathrooms  surface   price  ... level4Id level5Id level6Id  \\\n",
       "0        3.0        2.0    103.0  195000  ...        0        0        0   \n",
       "1        3.0        1.0      NaN   89000  ...        0        0        0   \n",
       "2        2.0        2.0     99.0  390000  ...        0        0        0   \n",
       "3        3.0        1.0     86.0   89000  ...        0        0        0   \n",
       "4        2.0        2.0    106.0  172000  ...        0        0        0   \n",
       "...      ...        ...      ...     ...  ...      ...      ...      ...   \n",
       "15330    2.0        1.0     96.0  259470  ...        0        0        0   \n",
       "15331    3.0        1.0    150.0  165000  ...        0        0        0   \n",
       "15332    4.0        2.0    175.0  495000  ...        0        0        0   \n",
       "15333    3.0        2.0    101.0  195000  ...        0        0        0   \n",
       "15334    3.0        2.0    152.0  765000  ...        0        0        0   \n",
       "\n",
       "      level7Id level8Id accuracy          latitude          longitude zipCode  \\\n",
       "0            0        0        0  40,2948276786438  -3,44402412135624     NaN   \n",
       "1            0        0        1          40,28674           -3,79351     NaN   \n",
       "2            0        0        0  40,4115646786438  -3,90662252135624     NaN   \n",
       "3            0        0        0  40,2853785786438  -3,79508142135624     NaN   \n",
       "4            0        0        0  40,2998774864376  -3,45226301356237     NaN   \n",
       "...        ...      ...      ...               ...                ...     ...   \n",
       "15330        0        0        0          40,45416           -3,70286     NaN   \n",
       "15331        0        0        0          40,36652           -3,48951     NaN   \n",
       "15332        0        0        0          40,57444           -3,92124     NaN   \n",
       "15333        0        0        0          40,36967           -3,48105     NaN   \n",
       "15334        0        0        0          40,45773           -3,69068     NaN   \n",
       "\n",
       "      customZone  \n",
       "0            NaN  \n",
       "1            NaN  \n",
       "2            NaN  \n",
       "3            NaN  \n",
       "4            NaN  \n",
       "...          ...  \n",
       "15330        NaN  \n",
       "15331        NaN  \n",
       "15332        NaN  \n",
       "15333        NaN  \n",
       "15334        NaN  \n",
       "\n",
       "[15335 rows x 37 columns]"
      ]
     },
     "execution_count": 1,
     "metadata": {},
     "output_type": "execute_result"
    }
   ],
   "source": [
    "import pandas as pd\n",
    "import matplotlib.pyplot as plt\n",
    "\n",
    "# import the main real estate file to a dataframe.\n",
    "# the csv uses semicolons as separators, so that's stated as an attribute.\n",
    "ds = pd.read_csv('assets/real_estate.csv', sep=';')\n",
    "ds"
   ]
  },
  {
   "attachments": {},
   "cell_type": "markdown",
   "id": "latin-guest",
   "metadata": {},
   "source": [
    "#### Exercise 01. Which is the most expensive house in the dataset? (★☆☆)\n",
    "\n",
    "Print the address and the price of the selected house. For example:\n",
    "\n",
    "`The house with address General Street Nº5 is the most expensive and its price is 5000000 USD`"
   ]
  },
  {
   "cell_type": "code",
   "execution_count": 2,
   "id": "developing-optimum",
   "metadata": {},
   "outputs": [
    {
     "name": "stdout",
     "output_type": "stream",
     "text": [
      "The house with address El Escorial is the most expensive and its price is 8500000 USD\n"
     ]
    }
   ],
   "source": [
    "# copy row that has the highest price to new variable\n",
    "most_expensive_house = ds.loc[ds['price'].idxmax()]\n",
    "\n",
    "# extract the address and price from previous variable\n",
    "address = most_expensive_house[\"address\"]\n",
    "price = most_expensive_house[\"price\"]\n",
    "\n",
    "# print a sentence about the most expensive house \n",
    "print(\"The house with address \" + address + \" is the most expensive and its price is \" + str(price) + \" USD\")\n"
   ]
  },
  {
   "attachments": {},
   "cell_type": "markdown",
   "id": "lesser-cosmetic",
   "metadata": {},
   "source": [
    "#### Exercise 02. Which is cheapest house in the dataset? (★☆☆)\n",
    "\n",
    "Print the address and the price of the selected house. For example:\n",
    "\n",
    "`The house with address Concrete Street Nº1 is the cheapest and its price is 12000 USD`"
   ]
  },
  {
   "cell_type": "code",
   "execution_count": 3,
   "id": "lovely-oasis",
   "metadata": {},
   "outputs": [
    {
     "name": "stdout",
     "output_type": "stream",
     "text": [
      "The house with address Berlin, Coslada is the cheapest and its price is 600 USD\n"
     ]
    }
   ],
   "source": [
    "### The CSV, oddly enough, contains houses with prices of 0.\n",
    "### Not sure if this exercise would want me to ignore that, but I've gone ahead and done so.\n",
    "# copy over all rows that have prices higher than 0\n",
    "cheapest_house = ds[ds['price'] > 0]\n",
    "# narrow down to lowest price\n",
    "cheapest_house = cheapest_house.loc[cheapest_house['price'].idxmin()]\n",
    "\n",
    "# extract the address and price from previous variable\n",
    "address = cheapest_house[\"address\"]\n",
    "price = cheapest_house[\"price\"]\n",
    "\n",
    "# print a sentence about the most expensive house \n",
    "print(\"The house with address \" + address + \" is the cheapest and its price is \" + str(price) + \" USD\")"
   ]
  },
  {
   "attachments": {},
   "cell_type": "markdown",
   "id": "compliant-fellowship",
   "metadata": {},
   "source": [
    "#### Exercise 03. Which is the biggest and the smallest house in the dataset? (★☆☆)\n",
    "\n",
    "Print both the address and the surface of the selected houses. For example:\n",
    "\n",
    "`The bigger house is located on Yukka Street Nº10 and its surface is 5000 meters`\n",
    "\n",
    "`The smaller house is located on County Road 1 N and its surface is 200 meters`"
   ]
  },
  {
   "cell_type": "code",
   "execution_count": 4,
   "id": "every-tiffany",
   "metadata": {},
   "outputs": [
    {
     "name": "stdout",
     "output_type": "stream",
     "text": [
      "The bigger house is located on Sevilla la Nueva and its surface is 249000 meters\n",
      "The smaller house is located on Calle Amparo,  Madrid Capital and its surface is 15 meters\n"
     ]
    }
   ],
   "source": [
    "# copy rows for biggest and lowest surfaces to new variables\n",
    "biggest_house = ds.loc[ds[\"surface\"].idxmax()]\n",
    "smallest_house = ds.loc[ds[\"surface\"].idxmin()]\n",
    "\n",
    "# extract the address and surface size from previous variables\n",
    "address_biggest = biggest_house[\"address\"]\n",
    "address_smallest = smallest_house[\"address\"]\n",
    "surface_biggest = biggest_house[\"surface\"]\n",
    "surface_smallest = smallest_house[\"surface\"]\n",
    "\n",
    "# print a sentence about the largest house\n",
    "print(\"The bigger house is located on \" + address_biggest + \" and its surface is \" + str(int(surface_biggest)) + \" meters\")\n",
    "# print a sentence about the smallest house\n",
    "print(\"The smaller house is located on \" + address_smallest + \" and its surface is \" + str(int(surface_smallest)) + \" meters\")\n"
   ]
  },
  {
   "attachments": {},
   "cell_type": "markdown",
   "id": "danish-spirit",
   "metadata": {},
   "source": [
    "#### Exercise 04. How many populations (level5 column) the dataset contains? (★☆☆)\n",
    "\n",
    "Print the name of the populations with comma as separator. For example:\n",
    "\n",
    "`> print(populations)`\n",
    "\n",
    "`population1, population2, population3,...`"
   ]
  },
  {
   "cell_type": "code",
   "execution_count": 5,
   "id": "exciting-accreditation",
   "metadata": {},
   "outputs": [
    {
     "name": "stdout",
     "output_type": "stream",
     "text": [
      "['Arganda del Rey', 'Fuenlabrada', 'Boadilla del Monte', 'Las Rozas de Madrid', ' Madrid Capital', 'Villaviciosa de Odón', 'Pinto', 'Valdemoro', 'Navalcarnero', 'Pozuelo de Alarcón', 'Torrejón de Ardoz', 'Navalagamella', 'San Sebastián de los Reyes', 'Rivas-vaciamadrid', 'Alpedrete', 'Móstoles', 'San Fernando de Henares', 'Coslada', 'Becerril de la Sierra', 'Alcalá de Henares', 'Chinchón', 'Parla', 'Alcorcón', 'El Escorial', 'Leganés', 'Pedrezuela', 'Majadahonda', 'Villanueva de la Cañada', 'Villanueva del Pardillo', 'Torrelodones', 'Moralzarzal', 'Mejorada del Campo', 'Aranjuez', 'Corpa', 'Getafe', 'Velilla de San Antonio', 'Sevilla la Nueva', 'San Martín de la Vega', 'Villalbilla', 'Collado Villalba', 'Alcobendas', 'El Molar (Madrid)', 'Moraleja de Enmedio', 'Algete', 'Campo Real', 'Torrejón de la Calzada', 'Colmenar Viejo', 'Valdemorillo', 'Fuente El Saz de Jarama', 'Tres Cantos', 'Arroyomolinos (Madrid)', 'Griñón', 'Paracuellos de Jarama', 'Guadarrama', 'Titulcia', 'Galapagar', 'Collado Mediano', 'Los Molinos', 'San Lorenzo de El Escorial', 'Loeches', 'San Martín de Valdeiglesias', 'Navas del Rey', 'Bustarviejo', 'Manzanares El Real', 'Carabaña', 'Casarrubuelos', 'Cercedilla', 'Fresnedillas de la Oliva', 'Valdemaqueda', 'Robledo de Chavela', 'Miraflores de la Sierra', 'Humanes de Madrid', 'Valdetorres de Jarama', 'San Agustín del Guadalix', 'Ciempozuelos', 'Camarma de Esteruelas', 'Torres de la Alameda', 'Talamanca de Jarama', 'El Atazar', 'Hoyo de Manzanares', 'El Boalo - Cerceda – Mataelpino', 'El Álamo', 'Valdilecha', 'Valdeolmos-Alalpardo', 'Guadalix de la Sierra', 'Belmonte de Tajo', 'El Vellón', 'Brunete', 'Redueña', 'Morata de Tajuña', 'Tielmes', 'Gargantilla del Lozoya', 'Meco', 'Venturada', 'Quijorna', 'Cenicientos', 'Torrejón de Velasco', 'Navacerrada', 'Santa María de la Alameda', 'Orusco de Tajuña', 'Daganzo de Arriba', 'Villamanta', 'Anchuelo', 'Valdaracete', 'Ajalvir', 'Los Santos de la Humosa', 'Villamanrique de Tajo', 'Colmenar de Oreja', 'Villa del Prado', 'Fuentidueña de Tajo', 'Colmenar del Arroyo', 'Valdelaguna', 'Cubas de la Sagra', 'Valdeavero', 'Aldea del Fresno', 'Ribatejada', 'Torrelaguna', 'Batres', 'Pezuela de las Torres', 'Colmenarejo', 'Serranillos del Valle', 'Cobeña', 'Soto del Real', 'El Berrueco', 'Villanueva de Perales', 'Fresno de Torote - Serracines', 'Pozuelo del Rey', 'Pelayos de la Presa', 'La Cabrera', 'Nuevo Baztán', 'Perales de Tajuña', 'Villaconejos', 'Villarejo de Salvanés', 'Cadalso de los Vidrios', 'Santorcaz', 'Madarcos', 'Garganta de los Montes', 'Puentes Viejas', 'Torremocha de Jarama', 'Valdemanco', 'Braojos', 'Lozoyuela-navas-sieteiglesias', 'Piñuécar-gandullas', 'Valdepiélagos', 'Valverde de Alcalá', 'Villar del Olmo', 'Villamantilla', 'Horcajo de la Sierra', 'Gascones', 'Zarzalejo', 'Villavieja del Lozoya', 'Brea de Tajo', 'Estremera', 'Chapinería', 'Navarredonda', 'Patones', 'Ambite', 'Navalafuente', 'Lozoya', 'Canencia', 'Cabanillas de la Sierra', 'Buitrago del Lozoya', 'Fresno de Torote', 'Robregordo', 'Pinilla del Valle', 'Rascafría', 'La Hiruela', 'Montejo de la Sierra']\n"
     ]
    }
   ],
   "source": [
    "# pull all houses' populations and drop duplicates\n",
    "populations = ds[\"level5\"].drop_duplicates()\n",
    "# create an array list of populations\n",
    "populations = populations.tolist()\n",
    "# print previous list of populations\n",
    "print(populations)"
   ]
  },
  {
   "attachments": {},
   "cell_type": "markdown",
   "id": "crazy-blame",
   "metadata": {},
   "source": [
    "#### Exercise 05. Does the dataset contain NAs? (★☆☆)\n",
    "\n",
    "Print a boolean value (`true` or `fase`) followed by the rows/cols that contains NAs."
   ]
  },
  {
   "cell_type": "code",
   "execution_count": 33,
   "id": "transparent-poetry",
   "metadata": {},
   "outputs": [
    {
     "name": "stdout",
     "output_type": "stream",
     "text": [
      "If there are nulls: True\n",
      "Columns containing null values:\n",
      "['realEstate_name', 'phone_realEstate', 'rooms', 'bathrooms', 'surface', 'description', 'level4', 'level6', 'level7', 'level8', 'zipCode', 'customZone', 'pps']\n"
     ]
    }
   ],
   "source": [
    "# check if any value in each column is null\n",
    "column_nulls = ds.isnull().any()\n",
    "# check for null values in rows\n",
    "row_nulls = ds.isnull().any(axis=1)\n",
    "\n",
    "# check if any value at all is null\n",
    "any_nulls = column_nulls.any()\n",
    "\n",
    "# print true or false if there are null values\n",
    "print(\"If there are nulls: \" + str(any_nulls))\n",
    "\n",
    "# print the names of columns containing null values\n",
    "print(\"Columns containing null values:\")\n",
    "print(ds.columns[column_nulls].to_list())"
   ]
  },
  {
   "attachments": {},
   "cell_type": "markdown",
   "id": "italic-hydrogen",
   "metadata": {},
   "source": [
    "#### Exercise 06. Delete the NAs of the dataset, if applicable (★★☆)\n",
    "\n",
    "Print a comparison between the dimensions of the original DataFrame versus the DataFrame after the deletions"
   ]
  },
  {
   "cell_type": "code",
   "execution_count": 7,
   "id": "administrative-roads",
   "metadata": {},
   "outputs": [
    {
     "name": "stdout",
     "output_type": "stream",
     "text": [
      "Before deletions, there were 37 columns\n"
     ]
    },
    {
     "name": "stdout",
     "output_type": "stream",
     "text": [
      " \n",
      "After deletions, there are 25 columns\n"
     ]
    }
   ],
   "source": [
    "# get original count of columns and rows\n",
    "# row_count = ds.shape[0]\n",
    "column_count = ds.shape[1]\n",
    "# print before for columns\n",
    "print(\"Before deletions, there were \" + str(column_count) + \" columns\")\n",
    "\n",
    "# create new dataframe with dropped columns\n",
    "deleted_nulls_ds = ds.copy()\n",
    "deleted_nulls_ds.dropna(axis=1, inplace=True) # // columns\n",
    "\n",
    "print(\" \") # line break\n",
    "\n",
    "# get new count of columns and rows\n",
    "#row_count = deleted_nulls_ds.shape[0]\n",
    "column_count = deleted_nulls_ds.shape[1]\n",
    "# print after for columns\n",
    "print(\"After deletions, there are \" + str(column_count) + \" columns\")\n"
   ]
  },
  {
   "attachments": {},
   "cell_type": "markdown",
   "id": "middle-china",
   "metadata": {},
   "source": [
    "#### Exercise 07. Which is the mean of prices in the population (level5 column) of \"Arroyomolinos (Madrid)\"? (★★☆)\n",
    "\n",
    "Print the obtained value"
   ]
  },
  {
   "cell_type": "code",
   "execution_count": 8,
   "id": "nuclear-belief",
   "metadata": {},
   "outputs": [
    {
     "name": "stdout",
     "output_type": "stream",
     "text": [
      "The mean price of all homes in Arroyomolinos is 294541.59854014596 USD\n"
     ]
    }
   ],
   "source": [
    "# create new dataframe with homes from population Arroyomolinos\n",
    "Arroyomolinos_rows = ds[ds[\"level5\"] == \"Arroyomolinos (Madrid)\"]\n",
    "\n",
    "# find mean of all Arroyomolinos home prices\n",
    "mean_prices = Arroyomolinos_rows[\"price\"].mean()\n",
    "\n",
    "# print the calculated mean\n",
    "print(\"The mean price of all homes in Arroyomolinos is \" + str(mean_prices) + \" USD\")"
   ]
  },
  {
   "attachments": {},
   "cell_type": "markdown",
   "id": "concerned-radical",
   "metadata": {},
   "source": [
    "#### Exercise 08. Plot the histogram of prices for the population (level5 column) of \"Arroyomolinos (Madrid)\" and explain what you observe (★★☆)\n",
    "\n",
    "Print the histogram of the prices and write in the Markdown cell a brief analysis about the plot."
   ]
  },
  {
   "cell_type": "code",
   "execution_count": 9,
   "id": "sudden-message",
   "metadata": {},
   "outputs": [
    {
     "data": {
      "image/png": "[encoded data removed]",
      "text/plain": [
       "<Figure size 640x480 with 1 Axes>"
      ]
     },
     "metadata": {},
     "output_type": "display_data"
    }
   ],
   "source": [
    "# create dataframe with only prices from Arroyomolinos homes\n",
    "prices = Arroyomolinos_rows['price']\n",
    "\n",
    "# create histogram\n",
    "plt.hist(prices, bins=30)\n",
    "plt.xlabel('Price in USD')\n",
    "plt.ylabel('Frequency')\n",
    "plt.title('Prices of homes in Arroyomolinos')\n",
    "\n",
    "# show histogram\n",
    "plt.show()"
   ]
  },
  {
   "attachments": {},
   "cell_type": "markdown",
   "id": "impressed-combination",
   "metadata": {},
   "source": [
    "Prices seem to have a normal distribution. By looking at the graph, I can guess that the center of the normal distribution is just under 300,000 USD."
   ]
  },
  {
   "attachments": {},
   "cell_type": "markdown",
   "id": "actual-edinburgh",
   "metadata": {},
   "source": [
    "#### Exercise 09. Is the average of \"Valdemorillo\" and \"Galapagar\" prices the same? (★★☆)\n",
    "\n",
    "Print the both average prices and then write a conclusion about them"
   ]
  },
  {
   "cell_type": "code",
   "execution_count": 10,
   "id": "numeric-commerce",
   "metadata": {},
   "outputs": [
    {
     "name": "stdout",
     "output_type": "stream",
     "text": [
      "Average Valdemorillo home price: 363860.2931034483 USD\n",
      "Average Galapagar home price: 360063.20238095237 USD\n"
     ]
    }
   ],
   "source": [
    "# create two dataframes with homes from populations Valdemorillo and Galapagar\n",
    "valdemorillo_rows = ds[ds[\"level5\"] == \"Valdemorillo\"]\n",
    "galapagar_rows = ds[ds[\"level5\"] == \"Galapagar\"]\n",
    "\n",
    "# calculate mean home price for both populations\n",
    "mean_price_valdemorillo = valdemorillo_rows[\"price\"].mean()\n",
    "mean_price_galapagar = galapagar_rows[\"price\"].mean()\n",
    "\n",
    "# print previous mean calculations\n",
    "print(\"Average Valdemorillo home price: \" + str(mean_price_valdemorillo) + \" USD\")\n",
    "print(\"Average Galapagar home price: \" + str(mean_price_galapagar) + \" USD\")"
   ]
  },
  {
   "cell_type": "markdown",
   "id": "97ba2f9a",
   "metadata": {},
   "source": [
    "Both average prices of homes in Valdemorillo and Galapager populations do not match but are very close. Considering the usual scale of home prices, it's safe to say that both populations have nearly the same average home price."
   ]
  },
  {
   "attachments": {},
   "cell_type": "markdown",
   "id": "lonely-article",
   "metadata": {},
   "source": [
    "#### Exercise 10. Is the average of \"Valdemorillo\" and \"Galapagar\" price per square meter (price/m2) the same? (★★☆)\n",
    "\n",
    "Print the both average prices and then write a conclusion about\n",
    "\n",
    "Hint: Create a new column called `pps` (price per square) and then analyse the values"
   ]
  },
  {
   "cell_type": "code",
   "execution_count": 11,
   "id": "hourly-globe",
   "metadata": {},
   "outputs": [
    {
     "name": "stdout",
     "output_type": "stream",
     "text": [
      "Average Valdemorillo home price per square meter: 1317.9502109024986 USD/m2\n",
      "Average Galapagar home price per square meter: 1606.3240303094024 USD/m2\n"
     ]
    }
   ],
   "source": [
    "# Create new column in original real estate dataframe\n",
    "            # Calculate the price per square meter for every home\n",
    "ds['pps'] = ds['price'] / ds['surface']\n",
    "\n",
    "# recreate Valdemorillo and Galapagar dataframes with new pps column\n",
    "valdemorillo_rows = ds[ds[\"level5\"] == \"Valdemorillo\"]\n",
    "galapagar_rows = ds[ds[\"level5\"] == \"Galapagar\"]\n",
    "\n",
    "# calculate pps mean for both populations\n",
    "mean_pps_valdemorillo = valdemorillo_rows[\"pps\"].mean()\n",
    "mean_pps_galapagar = galapagar_rows[\"pps\"].mean()\n",
    "\n",
    "# print previously calculated means\n",
    "print(\"Average Valdemorillo home price per square meter: \" + str(mean_pps_valdemorillo) + \" USD/m2\")\n",
    "print(\"Average Galapagar home price per square meter: \" + str(mean_pps_galapagar) + \" USD/m2\")"
   ]
  },
  {
   "cell_type": "markdown",
   "id": "7659d328",
   "metadata": {},
   "source": [
    "According to these results, it looks like that prices per size of homes in the Valdemorillo population, on average, are lower than those prices of Galapagar homes."
   ]
  },
  {
   "attachments": {},
   "cell_type": "markdown",
   "id": "pleasant-invite",
   "metadata": {},
   "source": [
    "#### Exercise 11. Analyse the relation between the surface and the price of the houses (★★☆)\n",
    "\n",
    "Hint: You can make a `scatter plot` and then write a conclusion about it"
   ]
  },
  {
   "cell_type": "code",
   "execution_count": 12,
   "id": "common-drilling",
   "metadata": {},
   "outputs": [
    {
     "data": {
      "image/png": "[encoded data removed]",
      "text/plain": [
       "<Figure size 1000x500 with 1 Axes>"
      ]
     },
     "metadata": {},
     "output_type": "display_data"
    }
   ],
   "source": [
    "# not sure if asking for all homes or only from the previous two populations. doing all:\n",
    "\n",
    "# create dataframes that act as lists for all home surfaces and prices\n",
    "surfaces_list = ds['surface']\n",
    "prices_list = ds['price']\n",
    "\n",
    "# set graph figure size\n",
    "plt.figure(figsize = (10, 5))\n",
    "\n",
    "## plt.xscale('log')\n",
    "\n",
    "# create new scatter plot graph\n",
    "plt.scatter(surfaces_list, prices_list)\n",
    "plt.xlabel('Surface')\n",
    "plt.ylabel('Price')\n",
    "plt.title('Relation between surface area and price of houses')\n",
    "\n",
    "plt.show()"
   ]
  },
  {
   "attachments": {},
   "cell_type": "markdown",
   "id": "ahead-liquid",
   "metadata": {},
   "source": [
    "It seems that surface does not correlate much to price at all. There are a few outlier homes that have much higher surface areas but with no price hike different than homes closer to the average surface area."
   ]
  },
  {
   "attachments": {},
   "cell_type": "markdown",
   "id": "coordinate-sunrise",
   "metadata": {},
   "source": [
    "#### Exercise 12. How many real estate agencies the dataset contains? (★★☆)\n",
    "\n",
    "Print the obtained value"
   ]
  },
  {
   "cell_type": "code",
   "execution_count": 34,
   "id": "valid-honolulu",
   "metadata": {},
   "outputs": [
    {
     "name": "stdout",
     "output_type": "stream",
     "text": [
      "14217\n"
     ]
    }
   ],
   "source": [
    "# create a new dataframe that acts as a list of all ID's for real estate agencies.\n",
    "# also drop duplicated agencies; we're looking for all unique agencies\n",
    "rs_agencies_count = ds['id_realEstates'].drop_duplicates()\n",
    "\n",
    "# print the count of the real estate agencies by counting the length of the dataframe\n",
    "print(len(rs_agencies_count))"
   ]
  },
  {
   "attachments": {},
   "cell_type": "markdown",
   "id": "binding-ebony",
   "metadata": {},
   "source": [
    "#### Exercise 13. Which is the population (level5 column) that contains the most houses? (★★☆)\n",
    "\n",
    "Print both the population and the number of houses"
   ]
  },
  {
   "cell_type": "code",
   "execution_count": 35,
   "id": "static-perry",
   "metadata": {},
   "outputs": [
    {
     "name": "stdout",
     "output_type": "stream",
     "text": [
      " Madrid Capital, 6643 homes\n"
     ]
    }
   ],
   "source": [
    "# create a list of populations with most houses and their counts\n",
    "pops_most_houses = ds['level5'].value_counts()\n",
    "\n",
    "# grab the name of the population\n",
    "highest_population = pops_most_houses.idxmax()\n",
    "# grab the count of houses in that population\n",
    "houses_in_pop = pops_most_houses.max()\n",
    "\n",
    "# print the population name and home count\n",
    "print(highest_population + \", \" + str(houses_in_pop) + \" homes\")\n",
    "\n"
   ]
  },
  {
   "attachments": {},
   "cell_type": "markdown",
   "id": "entire-classification",
   "metadata": {},
   "source": [
    "#### Exercise 14. Now let's work with the \"south belt\" of madrid. Make a subset of the original DataFrame that contains the following populations (level5 column): \"Fuenlabrada\",\"Leganés\",\"Getafe\",\"Alcorcón\" (★★☆)\n",
    "\n",
    "Hint: Filter the original DataFrame using the column `level5` and the function `isin`"
   ]
  },
  {
   "cell_type": "code",
   "execution_count": 37,
   "id": "binary-input",
   "metadata": {},
   "outputs": [
    {
     "name": "stdout",
     "output_type": "stream",
     "text": [
      "       Unnamed: 0  id_realEstates  isNew  \\\n",
      "1               2       153867863  False   \n",
      "3               4       152776331  False   \n",
      "85             86       153152077  False   \n",
      "94             95       153995577  False   \n",
      "109           110       153586414  False   \n",
      "...           ...             ...    ...   \n",
      "15275       15276       153903887  False   \n",
      "15291       15292       151697757  False   \n",
      "15305       15306       153902389  False   \n",
      "15322       15323       153871864  False   \n",
      "15325       15326       153901467  False   \n",
      "\n",
      "                                 realEstate_name  phone_realEstate  \\\n",
      "1              tecnocasa fuenlabrada ferrocarril       916358736.0   \n",
      "3              tecnocasa fuenlabrada ferrocarril       916358736.0   \n",
      "85                       sinergical inmobiliaria               NaN   \n",
      "94                               viviendas365com       911226014.0   \n",
      "109              area uno asesores inmobiliarios       912664081.0   \n",
      "...                                          ...               ...   \n",
      "15275  aliseda servicios de gestion inmobiliaria       911368198.0   \n",
      "15291                                    unipiso       912788631.0   \n",
      "15305                             jadein ferrero       914871639.0   \n",
      "15322                          gestion comercial       911220662.0   \n",
      "15325                              montehogar 68       911790675.0   \n",
      "\n",
      "                                            url_inmueble  rooms  bathrooms  \\\n",
      "1      https://www.fotocasa.es/es/comprar/vivienda/ma...    3.0        1.0   \n",
      "3      https://www.fotocasa.es/es/comprar/vivienda/ma...    3.0        1.0   \n",
      "85     https://www.fotocasa.es/es/comprar/vivienda/le...    1.0        1.0   \n",
      "94     https://www.fotocasa.es/es/comprar/vivienda/le...    3.0        2.0   \n",
      "109    https://www.fotocasa.es/es/comprar/vivienda/ma...    3.0        3.0   \n",
      "...                                                  ...    ...        ...   \n",
      "15275  https://www.fotocasa.es/es/comprar/vivienda/al...    3.0        1.0   \n",
      "15291  https://www.fotocasa.es/es/comprar/vivienda/al...    3.0        2.0   \n",
      "15305  https://www.fotocasa.es/es/comprar/vivienda/ma...    3.0        2.0   \n",
      "15322  https://www.fotocasa.es/es/comprar/vivienda/ma...    3.0        1.0   \n",
      "15325  https://www.fotocasa.es/es/comprar/vivienda/ma...    2.0        2.0   \n",
      "\n",
      "       surface   price  ... level5Id level6Id level7Id level8Id accuracy  \\\n",
      "1          NaN   89000  ...        0        0        0        0        1   \n",
      "3         86.0   89000  ...        0        0        0        0        0   \n",
      "85        50.0  107000  ...        0        0        0        0        1   \n",
      "94       120.0  320000  ...        0        0        0        0        0   \n",
      "109      142.0  425000  ...        0        0        0        0        0   \n",
      "...        ...     ...  ...      ...      ...      ...      ...      ...   \n",
      "15275     78.0  138000  ...        0        0        0        0        1   \n",
      "15291    110.0  279000  ...        0        0        0        0        0   \n",
      "15305     85.0  170000  ...        0        0        0        0        0   \n",
      "15322     91.0  112000  ...        0        0        0        0        0   \n",
      "15325     99.0  215000  ...        0        0        0        0        1   \n",
      "\n",
      "               latitude          longitude zipCode customZone          pps  \n",
      "1              40,28674           -3,79351     NaN        NaN          NaN  \n",
      "3      40,2853785786438  -3,79508142135624     NaN        NaN  1034.883721  \n",
      "85             40,35059           -3,82693     NaN        NaN  2140.000000  \n",
      "94             40,31933           -3,77574     NaN        NaN  2666.666667  \n",
      "109          40,3313411         -3,8313868     NaN        NaN  2992.957746  \n",
      "...                 ...                ...     ...        ...          ...  \n",
      "15275          40,31381           -3,83733     NaN        NaN  1769.230769  \n",
      "15291        40,3259051           -3,76318     NaN        NaN  2536.363636  \n",
      "15305        40,2882193         -3,8098617     NaN        NaN  2000.000000  \n",
      "15322          40,28282           -3,78892     NaN        NaN  1230.769231  \n",
      "15325          40,28062           -3,79869     NaN        NaN  2171.717172  \n",
      "\n",
      "[907 rows x 38 columns]\n"
     ]
    }
   ],
   "source": [
    "# create a new dataframe with homes from the south belt populations\n",
    "south_belt_pops = [\"Fuenlabrada\", \"Leganés\", \"Getafe\", \"Alcorcón\"]\n",
    "south_belt_ds = ds[ds[\"level5\"].isin(south_belt_pops)]\n",
    "\n",
    "# print(south_belt_ds)"
   ]
  },
  {
   "attachments": {},
   "cell_type": "markdown",
   "id": "severe-fisher",
   "metadata": {},
   "source": [
    "#### Exercise 15. Make a bar plot of the median of the prices and explain what you observe (you must use the subset obtained in the question 14) (★★★)\n",
    "\n",
    "Print the bar of the median of the prices and write in the Markdown cell a brief analysis about the plot"
   ]
  },
  {
   "cell_type": "code",
   "execution_count": 39,
   "id": "lyric-bunch",
   "metadata": {},
   "outputs": [
    {
     "data": {
      "image/png": "[encoded data removed]",
      "text/plain": [
       "<Figure size 1000x500 with 1 Axes>"
      ]
     },
     "metadata": {},
     "output_type": "display_data"
    }
   ],
   "source": [
    "# create separated dataframes for each of the four populations\n",
    "fuenlabrada_rows = south_belt_ds[south_belt_ds[\"level5\"] == \"Fuenlabrada\"]\n",
    "leganés_rows = south_belt_ds[south_belt_ds[\"level5\"] == \"Leganés\"]\n",
    "getafe_rows = south_belt_ds[south_belt_ds[\"level5\"] == \"Getafe\"]\n",
    "alcorcón_rows = south_belt_ds[south_belt_ds[\"level5\"] == \"Alcorcón\"]\n",
    "\n",
    "# calculate median prices for each of four populations\n",
    "median_price_fuenlabrada = fuenlabrada_rows[\"price\"].median()\n",
    "median_price_leganés = leganés_rows[\"price\"].median()\n",
    "median_price_getafe = getafe_rows[\"price\"].median()\n",
    "median_price_alcorcón = alcorcón_rows[\"price\"].median()\n",
    "\n",
    "# set labels and values from the previous median variables\n",
    "labels = [\"Fuenlabrada\", \"Leganés\", \"Getafe\", \"Alcorcón\"]\n",
    "values = [median_price_fuenlabrada, median_price_leganés, median_price_getafe, median_price_alcorcón]\n",
    "\n",
    "# set figure size\n",
    "plt.figure(figsize = (10, 5))\n",
    "\n",
    "# create bar graph\n",
    "plt.bar(labels, values)\n",
    "plt.title(\"Median prices of homes in the south belt\")\n",
    "plt.show()"
   ]
  },
  {
   "attachments": {},
   "cell_type": "markdown",
   "id": "sublime-newspaper",
   "metadata": {},
   "source": [
    "Out of the four shown populations, it seems that Getafe has more of expensive homes than the other three populations. "
   ]
  },
  {
   "attachments": {},
   "cell_type": "markdown",
   "id": "speaking-diamond",
   "metadata": {},
   "source": [
    "#### Exercise 16. Calculate the sample mean and variance of the variables: price, rooms, surface area and bathrooms (you must use the subset obtained in the question 14) (★★★)\n",
    "\n",
    "Print both values for each variable"
   ]
  },
  {
   "cell_type": "code",
   "execution_count": 17,
   "id": "random-feeling",
   "metadata": {},
   "outputs": [
    {
     "name": "stdout",
     "output_type": "stream",
     "text": [
      "Fuenlabrada population has:\n",
      "A sample mean price of 177198.02145922746 USD\n",
      "A variance price of 4701020700.469365 USD\n",
      "A sample mean of 3.0259740259740258 for rooms\n",
      "A variance of 0.3558441558441558 for rooms\n",
      "A sample mean of 3.0259740259740258 for surface area\n",
      "A variance of 0.3558441558441558 for surface area\n",
      "A sample mean of 1.445414847161572 for bathrooms\n",
      "A variance of 0.3533670420592967 for bathrooms\n",
      " \n",
      "Leganés population has:\n",
      "A sample mean price of 208682.01030927835 USD\n",
      "A variance price of 11913940043.502485 USD\n",
      "A sample mean of 2.906735751295337 for rooms\n",
      "A variance of 0.8245898100172712 for rooms\n",
      "A sample mean of 2.906735751295337 for surface area\n",
      "A variance of 0.8245898100172712 for surface area\n",
      "A sample mean of 1.5181347150259068 for bathrooms\n",
      "A variance of 0.5530548359240068 for bathrooms\n",
      " \n",
      "Getafe population has:\n",
      "A sample mean price of 265040.5 USD\n",
      "A variance price of 20982665802.243946 USD\n",
      "A sample mean of 3.1517241379310343 for rooms\n",
      "A variance of 0.7727478821143063 for rooms\n",
      "A sample mean of 3.1517241379310343 for surface area\n",
      "A variance of 0.7727478821143063 for surface area\n",
      "A sample mean of 1.8650519031141868 for bathrooms\n",
      "A variance of 0.6588091118800461 for bathrooms\n",
      " \n",
      "Alcorcón population has:\n",
      "A sample mean price of 230071.05263157896 USD\n",
      "A variance price of 15947825983.013088 USD\n",
      "A sample mean of 2.9148936170212765 for rooms\n",
      "A variance of 0.9338946410285586 for rooms\n",
      "A sample mean of 2.9148936170212765 for surface area\n",
      "A variance of 0.9338946410285586 for surface area\n",
      "A sample mean of 1.6236559139784945 for bathrooms\n",
      "A variance of 0.592734670154025 for bathrooms\n"
     ]
    }
   ],
   "source": [
    "# PRICE Sample Mean\n",
    "smean_price_fuenlabrada = fuenlabrada_rows[\"price\"].mean()\n",
    "smean_price_leganés = leganés_rows[\"price\"].mean()\n",
    "smean_price_getafe = getafe_rows[\"price\"].mean()\n",
    "smean_price_alcorcón = alcorcón_rows[\"price\"].mean()\n",
    "# PRICE Variance\n",
    "vari_price_fuenlabrada = fuenlabrada_rows[\"price\"].var()\n",
    "vari_price_leganés = leganés_rows[\"price\"].var()\n",
    "vari_price_getafe = getafe_rows[\"price\"].var()\n",
    "vari_price_alcorcón = alcorcón_rows[\"price\"].var()\n",
    "\n",
    "# ROOMS Sample Mean\n",
    "smean_rooms_fuenlabrada = fuenlabrada_rows[\"rooms\"].mean()\n",
    "smean_rooms_leganés = leganés_rows[\"rooms\"].mean()\n",
    "smean_rooms_getafe = getafe_rows[\"rooms\"].mean()\n",
    "smean_rooms_alcorcón = alcorcón_rows[\"rooms\"].mean()\n",
    "# ROOMS Variance\n",
    "vari_rooms_fuenlabrada = fuenlabrada_rows[\"rooms\"].var()\n",
    "vari_rooms_leganés = leganés_rows[\"rooms\"].var()\n",
    "vari_rooms_getafe = getafe_rows[\"rooms\"].var()\n",
    "vari_rooms_alcorcón = alcorcón_rows[\"rooms\"].var()\n",
    "\n",
    "# SURFACE AREA Sample Mean\n",
    "smean_surf_fuenlabrada = fuenlabrada_rows[\"rooms\"].mean()\n",
    "smean_surf_leganés = leganés_rows[\"rooms\"].mean()\n",
    "smean_surf_getafe = getafe_rows[\"rooms\"].mean()\n",
    "smean_surf_alcorcón = alcorcón_rows[\"rooms\"].mean()\n",
    "# SURFACE AREA Variance\n",
    "vari_surf_fuenlabrada = fuenlabrada_rows[\"rooms\"].var()\n",
    "vari_surf_leganés = leganés_rows[\"rooms\"].var()\n",
    "vari_surf_getafe = getafe_rows[\"rooms\"].var()\n",
    "vari_surf_alcorcón = alcorcón_rows[\"rooms\"].var()\n",
    "\n",
    "# BATHROOMS Sample Mean\n",
    "smean_baro_fuenlabrada = fuenlabrada_rows[\"bathrooms\"].mean()\n",
    "smean_baro_leganés = leganés_rows[\"bathrooms\"].mean()\n",
    "smean_baro_getafe = getafe_rows[\"bathrooms\"].mean()\n",
    "smean_baro_alcorcón = alcorcón_rows[\"bathrooms\"].mean()\n",
    "# BATHROOMS Variance\n",
    "vari_baro_fuenlabrada = fuenlabrada_rows[\"bathrooms\"].var()\n",
    "vari_baro_leganés = leganés_rows[\"bathrooms\"].var()\n",
    "vari_baro_getafe = getafe_rows[\"bathrooms\"].var()\n",
    "vari_baro_alcorcón = alcorcón_rows[\"bathrooms\"].var()\n",
    "\n",
    "### Print all information (see output)\n",
    "print(\"Fuenlabrada population has:\")\n",
    "print(\"A sample mean price of \" + str(smean_price_fuenlabrada) + \" USD\")\n",
    "print(\"A variance price of \" + str(vari_price_fuenlabrada) + \" USD\")\n",
    "print(\"A sample mean of \" + str(smean_rooms_fuenlabrada) + \" for rooms\")\n",
    "print(\"A variance of \" + str(vari_rooms_fuenlabrada) + \" for rooms\")\n",
    "print(\"A sample mean of \" + str(smean_surf_fuenlabrada) + \" for surface area\")\n",
    "print(\"A variance of \" + str(vari_surf_fuenlabrada) + \" for surface area\")\n",
    "print(\"A sample mean of \" + str(smean_baro_fuenlabrada) + \" for bathrooms\")\n",
    "print(\"A variance of \" + str(vari_baro_fuenlabrada) + \" for bathrooms\")\n",
    "\n",
    "print(\" \")\n",
    "\n",
    "print(\"Leganés population has:\")\n",
    "print(\"A sample mean price of \" + str(smean_price_leganés) + \" USD\")\n",
    "print(\"A variance price of \" + str(vari_price_leganés) + \" USD\")\n",
    "print(\"A sample mean of \" + str(smean_rooms_leganés) + \" for rooms\")\n",
    "print(\"A variance of \" + str(vari_rooms_leganés) + \" for rooms\")\n",
    "print(\"A sample mean of \" + str(smean_surf_leganés) + \" for surface area\")\n",
    "print(\"A variance of \" + str(vari_surf_leganés) + \" for surface area\")\n",
    "print(\"A sample mean of \" + str(smean_baro_leganés) + \" for bathrooms\")\n",
    "print(\"A variance of \" + str(vari_baro_leganés) + \" for bathrooms\")\n",
    "\n",
    "print(\" \")\n",
    "\n",
    "print(\"Getafe population has:\")\n",
    "print(\"A sample mean price of \" + str(smean_price_getafe) + \" USD\")\n",
    "print(\"A variance price of \" + str(vari_price_getafe) + \" USD\")\n",
    "print(\"A sample mean of \" + str(smean_rooms_getafe) + \" for rooms\")\n",
    "print(\"A variance of \" + str(vari_rooms_getafe) + \" for rooms\")\n",
    "print(\"A sample mean of \" + str(smean_surf_getafe) + \" for surface area\")\n",
    "print(\"A variance of \" + str(vari_surf_getafe) + \" for surface area\")\n",
    "print(\"A sample mean of \" + str(smean_baro_getafe) + \" for bathrooms\")\n",
    "print(\"A variance of \" + str(vari_baro_getafe) + \" for bathrooms\")\n",
    "\n",
    "print(\" \")\n",
    "\n",
    "print(\"Alcorcón population has:\")\n",
    "print(\"A sample mean price of \" + str(smean_price_alcorcón) + \" USD\")\n",
    "print(\"A variance price of \" + str(vari_price_alcorcón) + \" USD\")\n",
    "print(\"A sample mean of \" + str(smean_rooms_alcorcón) + \" for rooms\")\n",
    "print(\"A variance of \" + str(vari_rooms_alcorcón) + \" for rooms\")\n",
    "print(\"A sample mean of \" + str(smean_surf_alcorcón) + \" for surface area\")\n",
    "print(\"A variance of \" + str(vari_surf_alcorcón) + \" for surface area\")\n",
    "print(\"A sample mean of \" + str(smean_baro_alcorcón) + \" for bathrooms\")\n",
    "print(\"A variance of \" + str(vari_baro_alcorcón) + \" for bathrooms\")"
   ]
  },
  {
   "attachments": {},
   "cell_type": "markdown",
   "id": "revolutionary-matrix",
   "metadata": {},
   "source": [
    "#### Exercise 17. What is the most expensive house of each population? You must use the subset obtained in the question 14 (★★☆)\n",
    "\n",
    "Print both the address and the price of the selected house of each population. You can print a DataFrame or a single line for each population"
   ]
  },
  {
   "cell_type": "code",
   "execution_count": 41,
   "id": "fifteen-browse",
   "metadata": {},
   "outputs": [
    {
     "name": "stdout",
     "output_type": "stream",
     "text": [
      "Fuenlabrada: Calle de Paulo Freire, 5, Fuenlabrada, 490000 USD\n",
      "Leganés: Avenida Reina Sofía, Leganés, 650000 USD\n",
      "Getafe: Getafe, 1050000 USD\n",
      "Alcorcón: Alcorcón, 950000 USD\n"
     ]
    }
   ],
   "source": [
    "# pull the home from each population that has the highest price\n",
    "fuenlabrada_highest_priced = fuenlabrada_rows.loc[fuenlabrada_rows[\"price\"].idxmax()]\n",
    "leganés_highest_priced = leganés_rows.loc[leganés_rows[\"price\"].idxmax()]\n",
    "getafe_highest_priced = getafe_rows.loc[getafe_rows[\"price\"].idxmax()]\n",
    "alcorcón_highest_priced = alcorcón_rows.loc[alcorcón_rows[\"price\"].idxmax()]\n",
    "\n",
    "# print the address and price for each population's home\n",
    "print(\"Fuenlabrada: \" + fuenlabrada_highest_priced[\"address\"] + \", \" + str(fuenlabrada_highest_priced[\"price\"]) + \" USD\")\n",
    "print(\"Leganés: \" + leganés_highest_priced[\"address\"] + \", \" + str(leganés_highest_priced[\"price\"]) + \" USD\")\n",
    "print(\"Getafe: \" + getafe_highest_priced[\"address\"] + \", \" + str(getafe_highest_priced[\"price\"]) + \" USD\")\n",
    "print(\"Alcorcón: \" + alcorcón_highest_priced[\"address\"] + \", \" + str(alcorcón_highest_priced[\"price\"]) + \" USD\")"
   ]
  },
  {
   "attachments": {},
   "cell_type": "markdown",
   "id": "activated-knight",
   "metadata": {},
   "source": [
    "#### Exercise 18. Normalize the variable of prices for each population and plot the 4 histograms in the same plot (you must use the subset obtained in the question 14) (★★★)\n",
    "\n",
    "For the normalization method you can use the one you consider to, there is not a single correct answer to this question. Print the plot and write in the Markdown cell a brief analysis about the plot\n",
    "\n",
    "Hint: You can help yourself reviewing the multihist demo of Matplotlib"
   ]
  },
  {
   "cell_type": "code",
   "execution_count": 45,
   "id": "civic-meditation",
   "metadata": {},
   "outputs": [
    {
     "data": {
      "image/png": "[encoded data removed]",
      "text/plain": [
       "<Figure size 1000x500 with 1 Axes>"
      ]
     },
     "metadata": {},
     "output_type": "display_data"
    }
   ],
   "source": [
    "# use mean normalization for each population\n",
    "fuenlabrada_normalized = (fuenlabrada_rows[\"price\"] - fuenlabrada_rows[\"price\"].mean())  /  fuenlabrada_rows[\"price\"].std()\n",
    "leganés_highest_normalized = (leganés_rows[\"price\"] - leganés_rows[\"price\"].mean())  /  leganés_rows[\"price\"].std()\n",
    "getafe_highest_normalized = (getafe_rows[\"price\"] - getafe_rows[\"price\"].mean())  /  getafe_rows[\"price\"].std()\n",
    "alcorcón_highest_normalized = (alcorcón_rows[\"price\"] - alcorcón_rows[\"price\"].mean())  /  alcorcón_rows[\"price\"].std()\n",
    "\n",
    "# set graph figure size\n",
    "plt.figure(figsize = (10, 5))\n",
    "\n",
    "# add histogram graphs for all four populations\n",
    "plt.hist(fuenlabrada_normalized, bins = 15, alpha = 1, color = \"red\", label = \"Fuenlabrada\")\n",
    "plt.hist(leganés_highest_normalized, bins = 15, alpha = 0.55, color = \"blue\", label = \"Leganés\")\n",
    "plt.hist(getafe_highest_normalized, bins = 15, alpha = 0.45, color = \"green\", label = \"Getafe\")\n",
    "plt.hist(alcorcón_highest_normalized, bins = 15, alpha = 0.40, color = \"black\", label = \"Alcorcón\")\n",
    "\n",
    "# create x and y labels for histogram\n",
    "plt.xlabel(\"Price\")\n",
    "plt.ylabel(\"Homes\")\n",
    "\n",
    "# set histogram title and show\n",
    "plt.title(\"Normalized prices of homes\")\n",
    "plt.legend()\n",
    "plt.show()"
   ]
  },
  {
   "attachments": {},
   "cell_type": "markdown",
   "id": "precise-heavy",
   "metadata": {},
   "source": [
    "According to this graph of normalized data, most of the pricing runs up in a right-skewed manner. There is one exception with home prices in the Getafe population where prices hike up more just under 400,000"
   ]
  },
  {
   "attachments": {},
   "cell_type": "markdown",
   "id": "patent-jonathan",
   "metadata": {},
   "source": [
    "#### Exercise 19. What can you say about the price per square meter (price/m2) between the towns of \"Getafe\" and \"Alcorcón\"? You must use the subset obtained in the question 14 (★★☆)\n",
    "\n",
    "Hint: Create a new column called `pps` (price per square) and then analyse the values"
   ]
  },
  {
   "cell_type": "code",
   "execution_count": 20,
   "id": "initial-liverpool",
   "metadata": {},
   "outputs": [
    {
     "name": "stdout",
     "output_type": "stream",
     "text": [
      "Alcorcón PPS mean: 2239.302480199618\n",
      "Getafe PPS mean: 2066.314949251463\n",
      "Alcorcón PPS median: 2207.7922077922076\n",
      "Getafe PPS median: 1973.3333333333333\n"
     ]
    }
   ],
   "source": [
    "# there's already a column called pps from a previous exercise\n",
    "\n",
    "# print calculations for mean and median (see output)\n",
    "print(\"Alcorcón PPS mean: \" + str(alcorcón_rows[\"pps\"].mean()))\n",
    "print(\"Getafe PPS mean: \" + str(getafe_rows[\"pps\"].mean()))\n",
    "print(\"Alcorcón PPS median: \" + str(alcorcón_rows[\"pps\"].median()))\n",
    "print(\"Getafe PPS median: \" + str(getafe_rows[\"pps\"].median()))"
   ]
  },
  {
   "cell_type": "markdown",
   "id": "6cc6addd",
   "metadata": {},
   "source": [
    "It seems that Alcorcón homes tend to cost for more space."
   ]
  },
  {
   "attachments": {},
   "cell_type": "markdown",
   "id": "enhanced-moscow",
   "metadata": {},
   "source": [
    "#### Exercise 20. Make the same plot for 4 different populations (level5 column) and rearrange them on the same graph? You must use the subset obtained in the question 14 (★★☆) \n",
    "Hint: make a scatter plot of each population using subplots."
   ]
  },
  {
   "cell_type": "code",
   "execution_count": 28,
   "id": "accepting-airfare",
   "metadata": {},
   "outputs": [
    {
     "data": {
      "image/png": "[encoded data removed]",
      "text/plain": [
       "<Figure size 1000x500 with 1 Axes>"
      ]
     },
     "metadata": {},
     "output_type": "display_data"
    }
   ],
   "source": [
    "## create dataframes for each population that act as lists for surface and price values \n",
    "fuenlabrada_surfaces_list = fuenlabrada_rows['surface']\n",
    "fuenlabrada_prices_list = fuenlabrada_rows['price']\n",
    "\n",
    "leganés_surfaces_list = leganés_rows['surface']\n",
    "leganés_prices_list = leganés_rows['price']\n",
    "\n",
    "getafe_surfaces_list = getafe_rows['surface']\n",
    "getafe_prices_list = getafe_rows['price']\n",
    "\n",
    "alcorcón_surfaces_list = alcorcón_rows['surface']\n",
    "alcorcón_prices_list = alcorcón_rows['price']\n",
    "\n",
    "# set graph figure size\n",
    "plt.figure(figsize = (10, 5))\n",
    "\n",
    "# plt.xscale('log')\n",
    "\n",
    "# add histogram graphs for all four populations\n",
    "plt.scatter(fuenlabrada_surfaces_list, fuenlabrada_prices_list, label = \"Fuenlabrada\")\n",
    "plt.scatter(leganés_surfaces_list, leganés_prices_list, label = \"Leganés\")\n",
    "plt.scatter(getafe_surfaces_list, getafe_prices_list, label = \"Getafe\")\n",
    "plt.scatter(alcorcón_surfaces_list, alcorcón_prices_list, label = \"Alcorcón\")\n",
    "\n",
    "# set graph labels\n",
    "plt.xlabel('Surface')\n",
    "plt.ylabel('Price')\n",
    "plt.title('Relation between surface area and price of homes (PPS)')\n",
    "\n",
    "# show graph\n",
    "plt.legend()\n",
    "plt.show()"
   ]
  },
  {
   "attachments": {},
   "cell_type": "markdown",
   "id": "blocked-effects",
   "metadata": {},
   "source": [
    "#### Exercise 21. Make a plot of the coordinates (latitude and longitude columns) of the south belt of Madrid by color of each population (you must use the subset obtained in the question 14) (★★★★)\n",
    "\n",
    "Execute the following cell and then start coding in the next one. You must implement a simple code that transform the coordinates columns in a Python dictionary (add more information if needed) and then add it to the map"
   ]
  },
  {
   "cell_type": "code",
   "execution_count": 30,
   "id": "headed-privacy",
   "metadata": {},
   "outputs": [
    {
     "data": {
      "application/vnd.jupyter.widget-view+json": {
       "model_id": "bda9d617a43d48fc96e42e8e62d175b5",
       "version_major": 2,
       "version_minor": 0
      },
      "text/plain": [
       "Map(center=[40.331053, -3.768802], controls=(ZoomControl(options=['position', 'zoom_in_text', 'zoom_in_title',…"
      ]
     },
     "execution_count": 30,
     "metadata": {},
     "output_type": "execute_result"
    }
   ],
   "source": [
    "from ipyleaflet import Map, basemaps\n",
    "\n",
    "# Map centred on (60 degrees latitude et -2.2 degrees longitude)\n",
    "# Latitude, longitude\n",
    "map = Map(center = (40.331053, -3.768802), zoom = 11, min_zoom = 1, max_zoom = 20, \n",
    "    basemap=basemaps.Stamen.Terrain)\n",
    "map"
   ]
  },
  {
   "cell_type": "code",
   "execution_count": 31,
   "id": "present-mistress",
   "metadata": {},
   "outputs": [],
   "source": [
    "from ipyleaflet import Marker, Icon\n",
    "\n",
    "### for all four populations, create array lists for latitude and longitude values.\n",
    "# (since all of the coordinates have commas instead of decimals, they need to be changed to periods.)\n",
    "# fuenlabrada\n",
    "fuenlabrada_lat = fuenlabrada_rows[\"latitude\"].str.replace(',', '.').astype(float)\n",
    "fuenlabrada_lat = fuenlabrada_lat.tolist()\n",
    "fuenlabrada_long = fuenlabrada_rows[\"longitude\"].str.replace(',', '.').astype(float)\n",
    "fuenlabrada_long = fuenlabrada_long.tolist()\n",
    "# leganés\n",
    "leganés_lat = leganés_rows[\"latitude\"].str.replace(',', '.').astype(float)\n",
    "leganés_lat = leganés_lat.tolist()\n",
    "leganés_long = leganés_rows[\"longitude\"].str.replace(',', '.').astype(float)\n",
    "leganés_long = leganés_long.tolist()\n",
    "# getafe\n",
    "getafe_lat = getafe_rows[\"latitude\"].str.replace(',', '.').astype(float)\n",
    "getafe_lat = getafe_lat.tolist()\n",
    "getafe_long = getafe_rows[\"longitude\"].str.replace(',', '.').astype(float)\n",
    "getafe_long = getafe_long.tolist()\n",
    "# alcorcón\n",
    "alcorcón_lat = alcorcón_rows[\"latitude\"].str.replace(',', '.').astype(float)\n",
    "alcorcón_lat = alcorcón_lat.tolist()\n",
    "alcorcón_long = alcorcón_rows[\"longitude\"].str.replace(',', '.').astype(float)\n",
    "alcorcón_long = alcorcón_long.tolist()\n",
    "\n",
    "### map all points. not draggable and with unique colors\n",
    "# fuenlabrada // red\n",
    "for i in range(len(fuenlabrada_lat)):\n",
    "    marker = Marker(location=(fuenlabrada_lat[i],fuenlabrada_long[i]), draggable=False, icon=Icon(icon_url=f'https://raw.githubusercontent.com/pointhi/leaflet-color-markers/master/img/marker-icon-2x-red.png'))\n",
    "    map.add_layer(marker)\n",
    "# leganés // yellow\n",
    "for i in range(len(leganés_lat)):\n",
    "    marker = Marker(location=(leganés_lat[i],leganés_long[i]), draggable=False, icon=Icon(icon_url=f'https://raw.githubusercontent.com/pointhi/leaflet-color-markers/master/img/marker-icon-2x-gold.png'))\n",
    "    map.add_layer(marker)\n",
    "# getafe // orange\n",
    "for i in range(len(getafe_lat)):\n",
    "    marker = Marker(location=(getafe_lat[i],getafe_long[i]), draggable=False, icon=Icon(icon_url=f'https://raw.githubusercontent.com/pointhi/leaflet-color-markers/master/img/marker-icon-2x-orange.png'))\n",
    "    map.add_layer(marker)\n",
    "# alcorcón // purple\n",
    "for i in range(len(alcorcón_lat)):\n",
    "    marker = Marker(location=(alcorcón_lat[i],alcorcón_long[i]), draggable=False, icon=Icon(icon_url=f'https://raw.githubusercontent.com/pointhi/leaflet-color-markers/master/img/marker-icon-2x-violet.png'))\n",
    "    map.add_layer(marker)"
   ]
  }
 ],
 "metadata": {
  "kernelspec": {
   "display_name": "Python 3",
   "language": "python",
   "name": "python3"
  },
  "language_info": {
   "codemirror_mode": {
    "name": "ipython",
    "version": 3
   },
   "file_extension": ".py",
   "mimetype": "text/x-python",
   "name": "python",
   "nbconvert_exporter": "python",
   "pygments_lexer": "ipython3",
   "version": "3.11.4"
  }
 },
 "nbformat": 4,
 "nbformat_minor": 5
}
